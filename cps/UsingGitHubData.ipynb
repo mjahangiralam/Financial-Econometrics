{
  "nbformat": 4,
  "nbformat_minor": 0,
  "metadata": {
    "colab": {
      "provenance": []
    },
    "kernelspec": {
      "name": "python3",
      "display_name": "Python 3"
    },
    "language_info": {
      "name": "python"
    }
  },
  "cells": [
    {
      "cell_type": "code",
      "execution_count": null,
      "metadata": {
        "id": "rcXE1ITKwa8f"
      },
      "outputs": [],
      "source": []
    },
    {
      "cell_type": "code",
      "source": [
        "# Cloning the Entire Repository\n",
        "!git clone https://github.com/mjahangiralam/Financial-Econometrics.git\n",
        "\n",
        "# Changing Directory to the Cloned Repository\n",
        "%cd Financial-Econometrics/\n",
        "\n",
        "# If needed, change to a specific subfolder\n",
        "%cd cps/\n",
        "\n",
        "# Install dependencies if requirements.txt is in this directory\n",
        "# !pip install -r requirements.txt\n",
        "\n",
        "# Importing pandas for data handling\n",
        "import pandas as pd\n",
        "\n",
        "# Loading Data from the File\n",
        "data = pd.read_csv('output04_update.csv')\n",
        "\n",
        "# Display the first 5 rows of the dataframe\n",
        "print(data.head())\n",
        "\n"
      ],
      "metadata": {
        "colab": {
          "base_uri": "https://localhost:8080/"
        },
        "id": "GLdHa8s1xGs2",
        "outputId": "f28b54c6-441b-4ebd-ca83-3b1ccd829868"
      },
      "execution_count": 3,
      "outputs": [
        {
          "output_type": "stream",
          "name": "stdout",
          "text": [
            "Cloning into 'Financial-Econometrics'...\n",
            "remote: Enumerating objects: 12, done.\u001b[K\n",
            "remote: Counting objects: 100% (12/12), done.\u001b[K\n",
            "remote: Compressing objects: 100% (9/9), done.\u001b[K\n",
            "remote: Total 12 (delta 2), reused 12 (delta 2), pack-reused 0\u001b[K\n",
            "Receiving objects: 100% (12/12), 41.28 KiB | 6.88 MiB/s, done.\n",
            "Resolving deltas: 100% (2/2), done.\n",
            "/content/Financial-Econometrics\n",
            "/content/Financial-Econometrics/cps\n",
            "   FEMALE  NONWHITE  UNION  EDUC  AGE  EXPER   WAGE    LNWAGE\n",
            "0       0         0      0    12   48     30  23.62  3.162094\n",
            "1       1         0      0    12   63     45  15.00  2.708050\n",
            "2       0         0      0    12   46     28  16.03  2.774462\n",
            "3       0         0      0    10   18      2   7.50  2.014903\n",
            "4       0         0      0    14   27      7  17.01  2.833801\n"
          ]
        }
      ]
    },
    {
      "cell_type": "code",
      "source": [],
      "metadata": {
        "id": "bBX4kgkcLfrC"
      },
      "execution_count": null,
      "outputs": []
    }
  ]
}